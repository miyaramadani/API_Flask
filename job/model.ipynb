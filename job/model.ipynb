{
 "cells": [
  {
   "cell_type": "code",
   "execution_count": 20,
   "metadata": {},
   "outputs": [],
   "source": [
    "import pandas as pd\n",
    "import pylab as pl\n",
    "import numpy as np\n",
    "import scipy.optimize as opt\n",
    "from sklearn import preprocessing\n",
    "from sklearn.model_selection import train_test_split\n",
    "%matplotlib inline \n",
    "import matplotlib.pyplot as plt\n",
    "import pickle"
   ]
  },
  {
   "cell_type": "code",
   "execution_count": 21,
   "metadata": {},
   "outputs": [
    {
     "data": {
      "text/html": [
       "<div>\n",
       "<style scoped>\n",
       "    .dataframe tbody tr th:only-of-type {\n",
       "        vertical-align: middle;\n",
       "    }\n",
       "\n",
       "    .dataframe tbody tr th {\n",
       "        vertical-align: top;\n",
       "    }\n",
       "\n",
       "    .dataframe thead th {\n",
       "        text-align: right;\n",
       "    }\n",
       "</style>\n",
       "<table border=\"1\" class=\"dataframe\">\n",
       "  <thead>\n",
       "    <tr style=\"text-align: right;\">\n",
       "      <th></th>\n",
       "      <th>mtk</th>\n",
       "      <th>bahasa_indo</th>\n",
       "      <th>pendidikan_agama</th>\n",
       "      <th>ipa</th>\n",
       "      <th>ips</th>\n",
       "      <th>pernyataan</th>\n",
       "    </tr>\n",
       "  </thead>\n",
       "  <tbody>\n",
       "    <tr>\n",
       "      <th>0</th>\n",
       "      <td>75</td>\n",
       "      <td>77</td>\n",
       "      <td>92</td>\n",
       "      <td>62</td>\n",
       "      <td>93</td>\n",
       "      <td>lulus</td>\n",
       "    </tr>\n",
       "    <tr>\n",
       "      <th>1</th>\n",
       "      <td>84</td>\n",
       "      <td>69</td>\n",
       "      <td>63</td>\n",
       "      <td>95</td>\n",
       "      <td>87</td>\n",
       "      <td>lulus</td>\n",
       "    </tr>\n",
       "    <tr>\n",
       "      <th>2</th>\n",
       "      <td>66</td>\n",
       "      <td>97</td>\n",
       "      <td>92</td>\n",
       "      <td>92</td>\n",
       "      <td>70</td>\n",
       "      <td>lulus</td>\n",
       "    </tr>\n",
       "    <tr>\n",
       "      <th>3</th>\n",
       "      <td>75</td>\n",
       "      <td>67</td>\n",
       "      <td>97</td>\n",
       "      <td>65</td>\n",
       "      <td>82</td>\n",
       "      <td>lulus</td>\n",
       "    </tr>\n",
       "    <tr>\n",
       "      <th>4</th>\n",
       "      <td>58</td>\n",
       "      <td>96</td>\n",
       "      <td>98</td>\n",
       "      <td>50</td>\n",
       "      <td>77</td>\n",
       "      <td>lulus</td>\n",
       "    </tr>\n",
       "    <tr>\n",
       "      <th>5</th>\n",
       "      <td>98</td>\n",
       "      <td>58</td>\n",
       "      <td>92</td>\n",
       "      <td>90</td>\n",
       "      <td>63</td>\n",
       "      <td>lulus</td>\n",
       "    </tr>\n",
       "    <tr>\n",
       "      <th>6</th>\n",
       "      <td>76</td>\n",
       "      <td>65</td>\n",
       "      <td>82</td>\n",
       "      <td>88</td>\n",
       "      <td>84</td>\n",
       "      <td>lulus</td>\n",
       "    </tr>\n",
       "    <tr>\n",
       "      <th>7</th>\n",
       "      <td>56</td>\n",
       "      <td>65</td>\n",
       "      <td>99</td>\n",
       "      <td>60</td>\n",
       "      <td>77</td>\n",
       "      <td>lulus</td>\n",
       "    </tr>\n",
       "    <tr>\n",
       "      <th>8</th>\n",
       "      <td>58</td>\n",
       "      <td>69</td>\n",
       "      <td>87</td>\n",
       "      <td>72</td>\n",
       "      <td>81</td>\n",
       "      <td>lulus</td>\n",
       "    </tr>\n",
       "    <tr>\n",
       "      <th>9</th>\n",
       "      <td>64</td>\n",
       "      <td>62</td>\n",
       "      <td>52</td>\n",
       "      <td>51</td>\n",
       "      <td>56</td>\n",
       "      <td>tidak_lulus</td>\n",
       "    </tr>\n",
       "    <tr>\n",
       "      <th>10</th>\n",
       "      <td>82</td>\n",
       "      <td>55</td>\n",
       "      <td>83</td>\n",
       "      <td>90</td>\n",
       "      <td>69</td>\n",
       "      <td>lulus</td>\n",
       "    </tr>\n",
       "    <tr>\n",
       "      <th>11</th>\n",
       "      <td>71</td>\n",
       "      <td>97</td>\n",
       "      <td>66</td>\n",
       "      <td>53</td>\n",
       "      <td>95</td>\n",
       "      <td>lulus</td>\n",
       "    </tr>\n",
       "    <tr>\n",
       "      <th>12</th>\n",
       "      <td>52</td>\n",
       "      <td>100</td>\n",
       "      <td>64</td>\n",
       "      <td>71</td>\n",
       "      <td>54</td>\n",
       "      <td>tidak_lulus</td>\n",
       "    </tr>\n",
       "    <tr>\n",
       "      <th>13</th>\n",
       "      <td>95</td>\n",
       "      <td>95</td>\n",
       "      <td>99</td>\n",
       "      <td>73</td>\n",
       "      <td>65</td>\n",
       "      <td>lulus</td>\n",
       "    </tr>\n",
       "    <tr>\n",
       "      <th>14</th>\n",
       "      <td>100</td>\n",
       "      <td>61</td>\n",
       "      <td>67</td>\n",
       "      <td>100</td>\n",
       "      <td>70</td>\n",
       "      <td>lulus</td>\n",
       "    </tr>\n",
       "    <tr>\n",
       "      <th>15</th>\n",
       "      <td>67</td>\n",
       "      <td>57</td>\n",
       "      <td>98</td>\n",
       "      <td>79</td>\n",
       "      <td>81</td>\n",
       "      <td>lulus</td>\n",
       "    </tr>\n",
       "    <tr>\n",
       "      <th>16</th>\n",
       "      <td>60</td>\n",
       "      <td>66</td>\n",
       "      <td>62</td>\n",
       "      <td>99</td>\n",
       "      <td>54</td>\n",
       "      <td>tidak_lulus</td>\n",
       "    </tr>\n",
       "    <tr>\n",
       "      <th>17</th>\n",
       "      <td>97</td>\n",
       "      <td>65</td>\n",
       "      <td>88</td>\n",
       "      <td>90</td>\n",
       "      <td>69</td>\n",
       "      <td>lulus</td>\n",
       "    </tr>\n",
       "    <tr>\n",
       "      <th>18</th>\n",
       "      <td>53</td>\n",
       "      <td>94</td>\n",
       "      <td>93</td>\n",
       "      <td>99</td>\n",
       "      <td>69</td>\n",
       "      <td>lulus</td>\n",
       "    </tr>\n",
       "  </tbody>\n",
       "</table>\n",
       "</div>"
      ],
      "text/plain": [
       "    mtk  bahasa_indo  pendidikan_agama  ipa  ips   pernyataan\n",
       "0    75           77                92   62   93        lulus\n",
       "1    84           69                63   95   87        lulus\n",
       "2    66           97                92   92   70        lulus\n",
       "3    75           67                97   65   82        lulus\n",
       "4    58           96                98   50   77        lulus\n",
       "5    98           58                92   90   63        lulus\n",
       "6    76           65                82   88   84        lulus\n",
       "7    56           65                99   60   77        lulus\n",
       "8    58           69                87   72   81        lulus\n",
       "9    64           62                52   51   56  tidak_lulus\n",
       "10   82           55                83   90   69        lulus\n",
       "11   71           97                66   53   95        lulus\n",
       "12   52          100                64   71   54  tidak_lulus\n",
       "13   95           95                99   73   65        lulus\n",
       "14  100           61                67  100   70        lulus\n",
       "15   67           57                98   79   81        lulus\n",
       "16   60           66                62   99   54  tidak_lulus\n",
       "17   97           65                88   90   69        lulus\n",
       "18   53           94                93   99   69        lulus"
      ]
     },
     "execution_count": 21,
     "metadata": {},
     "output_type": "execute_result"
    }
   ],
   "source": [
    "df_nilai = pd.read_csv('nilai_sample.csv', sep=';')\n",
    "df_nilai"
   ]
  },
  {
   "cell_type": "code",
   "execution_count": 22,
   "metadata": {},
   "outputs": [
    {
     "data": {
      "text/plain": [
       "mtk                  int64\n",
       "bahasa_indo          int64\n",
       "pendidikan_agama     int64\n",
       "ipa                  int64\n",
       "ips                  int64\n",
       "pernyataan          object\n",
       "dtype: object"
      ]
     },
     "execution_count": 22,
     "metadata": {},
     "output_type": "execute_result"
    }
   ],
   "source": [
    "df_nilai.dtypes"
   ]
  },
  {
   "cell_type": "code",
   "execution_count": 23,
   "metadata": {},
   "outputs": [
    {
     "data": {
      "text/plain": [
       "array([[ 75,  77,  92,  62,  93],\n",
       "       [ 84,  69,  63,  95,  87],\n",
       "       [ 66,  97,  92,  92,  70],\n",
       "       [ 75,  67,  97,  65,  82],\n",
       "       [ 58,  96,  98,  50,  77],\n",
       "       [ 98,  58,  92,  90,  63],\n",
       "       [ 76,  65,  82,  88,  84],\n",
       "       [ 56,  65,  99,  60,  77],\n",
       "       [ 58,  69,  87,  72,  81],\n",
       "       [ 64,  62,  52,  51,  56],\n",
       "       [ 82,  55,  83,  90,  69],\n",
       "       [ 71,  97,  66,  53,  95],\n",
       "       [ 52, 100,  64,  71,  54],\n",
       "       [ 95,  95,  99,  73,  65],\n",
       "       [100,  61,  67, 100,  70],\n",
       "       [ 67,  57,  98,  79,  81],\n",
       "       [ 60,  66,  62,  99,  54],\n",
       "       [ 97,  65,  88,  90,  69],\n",
       "       [ 53,  94,  93,  99,  69]], dtype=int64)"
      ]
     },
     "execution_count": 23,
     "metadata": {},
     "output_type": "execute_result"
    }
   ],
   "source": [
    "feature_df = df_nilai[['mtk', 'bahasa_indo', 'pendidikan_agama', 'ipa', 'ips']]\n",
    "X = np.asarray(feature_df)\n",
    "X"
   ]
  },
  {
   "cell_type": "code",
   "execution_count": 26,
   "metadata": {
    "scrolled": true
   },
   "outputs": [
    {
     "data": {
      "text/html": [
       "<div>\n",
       "<style scoped>\n",
       "    .dataframe tbody tr th:only-of-type {\n",
       "        vertical-align: middle;\n",
       "    }\n",
       "\n",
       "    .dataframe tbody tr th {\n",
       "        vertical-align: top;\n",
       "    }\n",
       "\n",
       "    .dataframe thead th {\n",
       "        text-align: right;\n",
       "    }\n",
       "</style>\n",
       "<table border=\"1\" class=\"dataframe\">\n",
       "  <thead>\n",
       "    <tr style=\"text-align: right;\">\n",
       "      <th></th>\n",
       "      <th>pernyataan</th>\n",
       "    </tr>\n",
       "  </thead>\n",
       "  <tbody>\n",
       "    <tr>\n",
       "      <th>0</th>\n",
       "      <td>lulus</td>\n",
       "    </tr>\n",
       "    <tr>\n",
       "      <th>1</th>\n",
       "      <td>lulus</td>\n",
       "    </tr>\n",
       "    <tr>\n",
       "      <th>2</th>\n",
       "      <td>lulus</td>\n",
       "    </tr>\n",
       "    <tr>\n",
       "      <th>3</th>\n",
       "      <td>lulus</td>\n",
       "    </tr>\n",
       "    <tr>\n",
       "      <th>4</th>\n",
       "      <td>lulus</td>\n",
       "    </tr>\n",
       "    <tr>\n",
       "      <th>5</th>\n",
       "      <td>lulus</td>\n",
       "    </tr>\n",
       "    <tr>\n",
       "      <th>6</th>\n",
       "      <td>lulus</td>\n",
       "    </tr>\n",
       "    <tr>\n",
       "      <th>7</th>\n",
       "      <td>lulus</td>\n",
       "    </tr>\n",
       "    <tr>\n",
       "      <th>8</th>\n",
       "      <td>lulus</td>\n",
       "    </tr>\n",
       "    <tr>\n",
       "      <th>9</th>\n",
       "      <td>tidak_lulus</td>\n",
       "    </tr>\n",
       "    <tr>\n",
       "      <th>10</th>\n",
       "      <td>lulus</td>\n",
       "    </tr>\n",
       "    <tr>\n",
       "      <th>11</th>\n",
       "      <td>lulus</td>\n",
       "    </tr>\n",
       "    <tr>\n",
       "      <th>12</th>\n",
       "      <td>tidak_lulus</td>\n",
       "    </tr>\n",
       "    <tr>\n",
       "      <th>13</th>\n",
       "      <td>lulus</td>\n",
       "    </tr>\n",
       "    <tr>\n",
       "      <th>14</th>\n",
       "      <td>lulus</td>\n",
       "    </tr>\n",
       "    <tr>\n",
       "      <th>15</th>\n",
       "      <td>lulus</td>\n",
       "    </tr>\n",
       "    <tr>\n",
       "      <th>16</th>\n",
       "      <td>tidak_lulus</td>\n",
       "    </tr>\n",
       "    <tr>\n",
       "      <th>17</th>\n",
       "      <td>lulus</td>\n",
       "    </tr>\n",
       "    <tr>\n",
       "      <th>18</th>\n",
       "      <td>lulus</td>\n",
       "    </tr>\n",
       "  </tbody>\n",
       "</table>\n",
       "</div>"
      ],
      "text/plain": [
       "     pernyataan\n",
       "0         lulus\n",
       "1         lulus\n",
       "2         lulus\n",
       "3         lulus\n",
       "4         lulus\n",
       "5         lulus\n",
       "6         lulus\n",
       "7         lulus\n",
       "8         lulus\n",
       "9   tidak_lulus\n",
       "10        lulus\n",
       "11        lulus\n",
       "12  tidak_lulus\n",
       "13        lulus\n",
       "14        lulus\n",
       "15        lulus\n",
       "16  tidak_lulus\n",
       "17        lulus\n",
       "18        lulus"
      ]
     },
     "execution_count": 26,
     "metadata": {},
     "output_type": "execute_result"
    }
   ],
   "source": [
    "# # label_encoder object knows how to understand word labels. \n",
    "# label_encoder = preprocessing.LabelEncoder() \n",
    "  \n",
    "# # Encode labels in column 'species'. \n",
    "# df_nilai['pernyataan']= label_encoder.fit_transform(df_nilai['pernyataan'])\n",
    "# y = np.asanyarray(df_nilai['pernyataan'].astype(int))\n",
    "# y\n",
    "\n",
    "y = df_nilai.iloc[:,-1:]\n",
    "y"
   ]
  },
  {
   "cell_type": "code",
   "execution_count": 27,
   "metadata": {},
   "outputs": [
    {
     "name": "stdout",
     "output_type": "stream",
     "text": [
      "Train set: (13, 5) (13, 1)\n",
      "Test set: (6, 5) (6, 1)\n"
     ]
    }
   ],
   "source": [
    "X_train, X_test, y_train, y_test = train_test_split(X, y, test_size=0.3)\n",
    "print ('Train set:', X_train.shape,  y_train.shape)\n",
    "print ('Test set:', X_test.shape,  y_test.shape)"
   ]
  },
  {
   "cell_type": "code",
   "execution_count": 28,
   "metadata": {
    "scrolled": true
   },
   "outputs": [
    {
     "data": {
      "text/plain": [
       "array([[ 60,  66,  62,  99,  54],\n",
       "       [ 75,  77,  92,  62,  93],\n",
       "       [ 82,  55,  83,  90,  69],\n",
       "       [ 75,  67,  97,  65,  82],\n",
       "       [ 56,  65,  99,  60,  77],\n",
       "       [ 98,  58,  92,  90,  63],\n",
       "       [ 95,  95,  99,  73,  65],\n",
       "       [ 76,  65,  82,  88,  84],\n",
       "       [ 66,  97,  92,  92,  70],\n",
       "       [ 67,  57,  98,  79,  81],\n",
       "       [ 97,  65,  88,  90,  69],\n",
       "       [ 52, 100,  64,  71,  54],\n",
       "       [ 53,  94,  93,  99,  69]], dtype=int64)"
      ]
     },
     "execution_count": 28,
     "metadata": {},
     "output_type": "execute_result"
    }
   ],
   "source": [
    "X_train"
   ]
  },
  {
   "cell_type": "code",
   "execution_count": 29,
   "metadata": {},
   "outputs": [
    {
     "data": {
      "text/html": [
       "<div>\n",
       "<style scoped>\n",
       "    .dataframe tbody tr th:only-of-type {\n",
       "        vertical-align: middle;\n",
       "    }\n",
       "\n",
       "    .dataframe tbody tr th {\n",
       "        vertical-align: top;\n",
       "    }\n",
       "\n",
       "    .dataframe thead th {\n",
       "        text-align: right;\n",
       "    }\n",
       "</style>\n",
       "<table border=\"1\" class=\"dataframe\">\n",
       "  <thead>\n",
       "    <tr style=\"text-align: right;\">\n",
       "      <th></th>\n",
       "      <th>pernyataan</th>\n",
       "    </tr>\n",
       "  </thead>\n",
       "  <tbody>\n",
       "    <tr>\n",
       "      <th>16</th>\n",
       "      <td>tidak_lulus</td>\n",
       "    </tr>\n",
       "    <tr>\n",
       "      <th>0</th>\n",
       "      <td>lulus</td>\n",
       "    </tr>\n",
       "    <tr>\n",
       "      <th>10</th>\n",
       "      <td>lulus</td>\n",
       "    </tr>\n",
       "    <tr>\n",
       "      <th>3</th>\n",
       "      <td>lulus</td>\n",
       "    </tr>\n",
       "    <tr>\n",
       "      <th>7</th>\n",
       "      <td>lulus</td>\n",
       "    </tr>\n",
       "    <tr>\n",
       "      <th>5</th>\n",
       "      <td>lulus</td>\n",
       "    </tr>\n",
       "    <tr>\n",
       "      <th>13</th>\n",
       "      <td>lulus</td>\n",
       "    </tr>\n",
       "    <tr>\n",
       "      <th>6</th>\n",
       "      <td>lulus</td>\n",
       "    </tr>\n",
       "    <tr>\n",
       "      <th>2</th>\n",
       "      <td>lulus</td>\n",
       "    </tr>\n",
       "    <tr>\n",
       "      <th>15</th>\n",
       "      <td>lulus</td>\n",
       "    </tr>\n",
       "    <tr>\n",
       "      <th>17</th>\n",
       "      <td>lulus</td>\n",
       "    </tr>\n",
       "    <tr>\n",
       "      <th>12</th>\n",
       "      <td>tidak_lulus</td>\n",
       "    </tr>\n",
       "    <tr>\n",
       "      <th>18</th>\n",
       "      <td>lulus</td>\n",
       "    </tr>\n",
       "  </tbody>\n",
       "</table>\n",
       "</div>"
      ],
      "text/plain": [
       "     pernyataan\n",
       "16  tidak_lulus\n",
       "0         lulus\n",
       "10        lulus\n",
       "3         lulus\n",
       "7         lulus\n",
       "5         lulus\n",
       "13        lulus\n",
       "6         lulus\n",
       "2         lulus\n",
       "15        lulus\n",
       "17        lulus\n",
       "12  tidak_lulus\n",
       "18        lulus"
      ]
     },
     "execution_count": 29,
     "metadata": {},
     "output_type": "execute_result"
    }
   ],
   "source": [
    "y_train"
   ]
  },
  {
   "cell_type": "code",
   "execution_count": 30,
   "metadata": {
    "scrolled": true
   },
   "outputs": [
    {
     "name": "stderr",
     "output_type": "stream",
     "text": [
      "C:\\Users\\N. Prasetio\\Anaconda3\\lib\\site-packages\\sklearn\\utils\\validation.py:761: DataConversionWarning: A column-vector y was passed when a 1d array was expected. Please change the shape of y to (n_samples, ), for example using ravel().\n",
      "  y = column_or_1d(y, warn=True)\n"
     ]
    },
    {
     "data": {
      "text/plain": [
       "LogisticRegression(C=0.01, class_weight=None, dual=False, fit_intercept=True,\n",
       "          intercept_scaling=1, max_iter=100, multi_class='warn',\n",
       "          n_jobs=None, penalty='l2', random_state=None, solver='liblinear',\n",
       "          tol=0.0001, verbose=0, warm_start=False)"
      ]
     },
     "execution_count": 30,
     "metadata": {},
     "output_type": "execute_result"
    }
   ],
   "source": [
    "from sklearn.linear_model import LogisticRegression\n",
    "LR = LogisticRegression(C=0.01, solver='liblinear').fit(X_train,y_train)\n",
    "LR"
   ]
  },
  {
   "cell_type": "code",
   "execution_count": 31,
   "metadata": {},
   "outputs": [
    {
     "data": {
      "text/plain": [
       "array(['lulus', 'lulus', 'lulus', 'lulus', 'lulus', 'lulus'], dtype=object)"
      ]
     },
     "execution_count": 31,
     "metadata": {},
     "output_type": "execute_result"
    }
   ],
   "source": [
    "yhat = LR.predict(X_test)\n",
    "yhat"
   ]
  },
  {
   "cell_type": "code",
   "execution_count": 32,
   "metadata": {},
   "outputs": [
    {
     "data": {
      "text/plain": [
       "array([[0.99057828, 0.00942172],\n",
       "       [0.72445862, 0.27554138],\n",
       "       [0.98322326, 0.01677674],\n",
       "       [0.79585291, 0.20414709],\n",
       "       [0.73500285, 0.26499715],\n",
       "       [0.89516134, 0.10483866]])"
      ]
     },
     "execution_count": 32,
     "metadata": {},
     "output_type": "execute_result"
    }
   ],
   "source": [
    "yhat_prob = LR.predict_proba(X_test)\n",
    "yhat_prob"
   ]
  },
  {
   "cell_type": "code",
   "execution_count": 33,
   "metadata": {},
   "outputs": [],
   "source": [
    "# Saving model using pickle\n",
    "pickle.dump(LR, open('baru_model.pkl','wb'))"
   ]
  },
  {
   "cell_type": "code",
   "execution_count": 34,
   "metadata": {},
   "outputs": [
    {
     "data": {
      "text/plain": [
       "array(['lulus'], dtype=object)"
      ]
     },
     "execution_count": 34,
     "metadata": {},
     "output_type": "execute_result"
    }
   ],
   "source": [
    "model = pickle.load( open('baru_model.pkl','rb'))\n",
    "model.predict([[50,60,70,80,90]])"
   ]
  },
  {
   "cell_type": "code",
   "execution_count": null,
   "metadata": {},
   "outputs": [],
   "source": []
  }
 ],
 "metadata": {
  "kernelspec": {
   "display_name": "Python 3",
   "language": "python",
   "name": "python3"
  },
  "language_info": {
   "codemirror_mode": {
    "name": "ipython",
    "version": 3
   },
   "file_extension": ".py",
   "mimetype": "text/x-python",
   "name": "python",
   "nbconvert_exporter": "python",
   "pygments_lexer": "ipython3",
   "version": "3.7.3"
  }
 },
 "nbformat": 4,
 "nbformat_minor": 2
}
